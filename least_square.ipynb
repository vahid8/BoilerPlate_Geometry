{
 "cells": [
  {
   "cell_type": "markdown",
   "metadata": {},
   "source": [
    "Import necessary packages"
   ]
  },
  {
   "cell_type": "code",
   "execution_count": 2,
   "metadata": {},
   "outputs": [],
   "source": [
    "import numpy as np\n",
    "from sympy import symbols"
   ]
  },
  {
   "cell_type": "markdown",
   "metadata": {},
   "source": [
    "# linear problem \n",
    "### equation : y = a.x + b  true values for simulation -> a=2, b =1\n",
    "### Do the simulation to get the observations"
   ]
  },
  {
   "cell_type": "code",
   "execution_count": 3,
   "metadata": {},
   "outputs": [
    {
     "name": "stdout",
     "output_type": "stream",
     "text": [
      " linear simulation x:[0, 1, 2], y:[1, 3, 5]\n"
     ]
    }
   ],
   "source": [
    "observation_x = [0, 1, 2]\n",
    "observation_y = list(map(lambda x: 2*x+1, observation_x))\n",
    "print(f\" linear simulation x:{observation_x}, y:{observation_y}\")"
   ]
  },
  {
   "cell_type": "code",
   "execution_count": 4,
   "metadata": {},
   "outputs": [
    {
     "name": "stdout",
     "output_type": "stream",
     "text": [
      "Polynomial function, f(x):\n",
      " a*x + b\n",
      "derivative w.r.t unknowns-> [x, 1]\n",
      "A(design_matrix) = [[0. 1.]\n",
      " [1. 1.]\n",
      " [2. 1.]]\n",
      "L(observations) = [1, 3, 5]\n",
      "calculated X : [2. 1.]\n",
      "____________________\n"
     ]
    }
   ],
   "source": [
    "# Use least square for linear problems\n",
    "# X = inv(A.T * A) * (A.T * L)\n",
    "x, y, a, b = symbols('x y a b')\n",
    "y = a * x + b\n",
    "print(\"Polynomial function, f(x):\\n\", y)\n",
    "diffs_wrt_unknowns = [y.diff(a), y.diff(b)]\n",
    "print(f\"derivative w.r.t unknowns-> {diffs_wrt_unknowns}\")\n",
    "design_matrix = []\n",
    "L = []\n",
    "for item1, item2 in zip(observation_x, observation_y):\n",
    "    design_matrix.append([each.subs(x, item1).evalf() for each in diffs_wrt_unknowns])\n",
    "    L.append(item2)\n",
    "\n",
    "design_matrix = np.array(design_matrix, dtype=float)\n",
    "print(f\"A(design_matrix) = {design_matrix}\")\n",
    "print(f\"L(observations) = {L}\")\n",
    "# Solve it\n",
    "X_cap = np.linalg.inv(design_matrix.T @ design_matrix) @ (design_matrix.T @ L)\n",
    "print(f\"calculated X : {X_cap}\")\n",
    "\n",
    "print(\"_\"*20)"
   ]
  },
  {
   "cell_type": "code",
   "execution_count": 5,
   "metadata": {},
   "outputs": [
    {
     "name": "stdout",
     "output_type": "stream",
     "text": [
      " non_linear simulation x:[0, 1, 2], y:[2, 14, 26]\n",
      "Polynomial function, f(x):\n",
      " a*b**2*x + b\n",
      "derivative w.r.t unknowns-> [b**2*x, 2*a*b*x + 1]\n",
      "A(design_matrix) = [[0. 1.]\n",
      " [1. 3.]\n",
      " [2. 5.]]\n",
      "L(observations) = [-1.00000000000000, -12.0000000000000, -23.0000000000000]\n",
      "init initial_x [1 1]\n",
      "delta_L [-1.00000000000000, -12.0000000000000, -23.0000000000000]\n",
      "calculated delta X : [-8.99999999999994 -1.00000000000001]\n",
      "9.99999999999994\n",
      "2.00000000000001\n",
      "**********\n",
      "A(design_matrix) = [[ 0.  1.]\n",
      " [ 4. 41.]\n",
      " [ 8. 81.]]\n",
      "L(observations) = [1.42108547152020e-14, 28.0000000000004, 56.0000000000007]\n",
      "init initial_x [9.99999999999994 2.00000000000001]\n",
      "delta_L [1.42108547152020e-14, 28.0000000000004, 56.0000000000007]\n",
      "calculated delta X : [7.00000000000000 -9.09494701772928e-13]\n",
      "2.99999999999994\n",
      "2.00000000000092\n",
      "**********\n",
      "A(design_matrix) = [[ 0.  1.]\n",
      " [ 4. 13.]\n",
      " [ 8. 25.]]\n",
      "L(observations) = [9.23705556488130e-13, 1.17807985589025e-11, 2.26378915613168e-11]\n",
      "init initial_x [2.99999999999994 2.00000000000092]\n",
      "delta_L [9.23705556488130e-13, 1.17807985589025e-11, 2.26378915613168e-11]\n",
      "calculated delta X : [-5.68434188616352e-14 9.23705556487923e-13]\n",
      "3.00000000000000\n",
      "2.00000000000000\n",
      "**********\n",
      "A(design_matrix) = [[ 0.  1.]\n",
      " [ 4. 13.]\n",
      " [ 8. 25.]]\n",
      "L(observations) = [0, 0, 0]\n",
      "init initial_x [3.00000000000000 2.00000000000000]\n",
      "delta_L [0, 0, 0]\n",
      "calculated delta X : [0 0]\n",
      "3.00000000000000\n",
      "2.00000000000000\n",
      "**********\n",
      "A(design_matrix) = [[ 0.  1.]\n",
      " [ 4. 13.]\n",
      " [ 8. 25.]]\n",
      "L(observations) = [0, 0, 0]\n",
      "init initial_x [3.00000000000000 2.00000000000000]\n",
      "delta_L [0, 0, 0]\n",
      "calculated delta X : [0 0]\n",
      "3.00000000000000\n",
      "2.00000000000000\n",
      "**********\n"
     ]
    }
   ],
   "source": [
    "### ----- Non-linear problem -------------\n",
    "# equation : y = a.(b^2).x + b  true values for simulation -> a=3, b=2\n",
    "# Do the simulation to get the observations\n",
    "observation_x = [0, 1, 2]\n",
    "observation_y = list(map(lambda x: 3*4*x + 2, observation_x))\n",
    "print(f\" non_linear simulation x:{observation_x}, y:{observation_y}\")\n",
    "\n",
    "# Use least square for non_linear problems\n",
    "# delta_L = A.X_prev - L\n",
    "# delta_X = inv(A.T * A) * (A.T * delta_L)\n",
    "x, y, a, b = symbols('x y a b')\n",
    "y = a * (b**2) * x + b\n",
    "print(\"Polynomial function, f(x):\\n\", y)\n",
    "\n",
    "diffs_wrt_unknowns = [y.diff(a), y.diff(b)]\n",
    "print(f\"derivative w.r.t unknowns-> {diffs_wrt_unknowns}\")\n",
    "\n",
    "# we need initial values for unknowns (non zero values)\n",
    "\n",
    "a_init = 1\n",
    "b_init = 1\n",
    "for jj in range(5):\n",
    "    design_matrix = []\n",
    "    L = []\n",
    "    for item1, item2 in zip(observation_x, observation_y):\n",
    "        design_matrix.append([each.subs(x, item1).subs(a, a_init).subs(b, b_init).evalf() for each in diffs_wrt_unknowns])\n",
    "        calculate_L_with_initial = y.subs(x, item1).subs(a, a_init).subs(b, b_init).evalf()\n",
    "        L.append(calculate_L_with_initial - item2)\n",
    "\n",
    "\n",
    "    design_matrix = np.array(design_matrix, dtype=float)\n",
    "    initial_x = np.array([a_init, b_init]).T\n",
    "    print(f\"A(design_matrix) = {design_matrix}\")\n",
    "    print(f\"L(observations) = {L}\")\n",
    "    print(f\"init initial_x {initial_x}\")\n",
    "    delta_L = L\n",
    "    print(f\"delta_L {delta_L}\")\n",
    "    # Solve it\n",
    "    # delta_X = inv(A.T * A) * (A.T * delta_L)\n",
    "    delta_X_cap = np.linalg.inv(design_matrix.T @ design_matrix) @ (design_matrix.T @ delta_L)\n",
    "    print(f\"calculated delta X : {delta_X_cap}\")\n",
    "    a_init -= delta_X_cap[0]\n",
    "    b_init -= delta_X_cap[1]\n",
    "    print(a_init)\n",
    "    print(b_init)\n",
    "    print('*'*10)"
   ]
  }
 ],
 "metadata": {
  "kernelspec": {
   "display_name": "Python 3.8.10 64-bit",
   "language": "python",
   "name": "python3"
  },
  "language_info": {
   "codemirror_mode": {
    "name": "ipython",
    "version": 3
   },
   "file_extension": ".py",
   "mimetype": "text/x-python",
   "name": "python",
   "nbconvert_exporter": "python",
   "pygments_lexer": "ipython3",
   "version": "3.8.10"
  },
  "orig_nbformat": 4,
  "vscode": {
   "interpreter": {
    "hash": "916dbcbb3f70747c44a77c7bcd40155683ae19c65e1c03b4aa3499c5328201f1"
   }
  }
 },
 "nbformat": 4,
 "nbformat_minor": 2
}
